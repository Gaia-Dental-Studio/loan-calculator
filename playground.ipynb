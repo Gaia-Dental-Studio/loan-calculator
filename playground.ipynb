{
 "cells": [
  {
   "cell_type": "code",
   "execution_count": 27,
   "metadata": {},
   "outputs": [],
   "source": [
    "import pandas as pd \n",
    "import numpy as np \n",
    "\n",
    "import numpy_financial as npf"
   ]
  },
  {
   "cell_type": "code",
   "execution_count": 2,
   "metadata": {},
   "outputs": [
    {
     "name": "stdout",
     "output_type": "stream",
     "text": [
      "Weekly Payment: $185.69\n"
     ]
    }
   ],
   "source": [
    "import numpy_financial as npf\n",
    "\n",
    "# Input values\n",
    "loan_amount = 150000  # Present value\n",
    "annual_rate = 0.05  # Annual interest rate (5%)\n",
    "loan_term_years = 30  # Loan term in years\n",
    "\n",
    "# Convert annual rate and term to weekly\n",
    "weekly_rate = annual_rate / 52\n",
    "nper_weeks = loan_term_years * 52\n",
    "\n",
    "# Calculate weekly payment\n",
    "weekly_payment = npf.pmt(weekly_rate, nper_weeks, loan_amount)\n",
    "print(f\"Weekly Payment: ${-weekly_payment:.2f}\")\n"
   ]
  },
  {
   "cell_type": "code",
   "execution_count": 32,
   "metadata": {},
   "outputs": [
    {
     "name": "stdout",
     "output_type": "stream",
     "text": [
      "Monthly Payment: $805.23\n"
     ]
    }
   ],
   "source": [
    "import numpy_financial as npf\n",
    "\n",
    "# Input values\n",
    "loan_amount = 150000  # Present value\n",
    "annual_rate = 0.05  # Annual interest rate (5%)\n",
    "loan_term_years = 30  # Loan term in years\n",
    "\n",
    "# Convert annual rate and term to weekly\n",
    "monthly_rate = annual_rate / 12\n",
    "nper_months = loan_term_years * 12\n",
    "\n",
    "# Calculate weekly payment\n",
    "monthly_payment = npf.pmt(monthly_rate, nper_months, loan_amount)\n",
    "print(f\"Monthly Payment: ${-monthly_payment:.2f}\")"
   ]
  },
  {
   "cell_type": "code",
   "execution_count": 10,
   "metadata": {},
   "outputs": [
    {
     "data": {
      "text/plain": [
       "array(nan)"
      ]
     },
     "execution_count": 10,
     "metadata": {},
     "output_type": "execute_result"
    }
   ],
   "source": [
    "import numpy_financial as npf\n",
    "\n",
    "period_interest_rate = 0.05 \n",
    "initial_payment = 500 * 12\n",
    "remaining_balance = 150000\n",
    "\n",
    "\n",
    "npf.nper(rate=period_interest_rate, \n",
    "                                                        pmt=-initial_payment, \n",
    "                                                        pv=remaining_balance)"
   ]
  },
  {
   "cell_type": "code",
   "execution_count": 7,
   "metadata": {},
   "outputs": [
    {
     "data": {
      "text/plain": [
       "1854.0247200054619"
      ]
     },
     "execution_count": 7,
     "metadata": {},
     "output_type": "execute_result"
    }
   ],
   "source": [
    "npf.pmt(0.075/12, 12*15, -200000)"
   ]
  },
  {
   "cell_type": "code",
   "execution_count": null,
   "metadata": {},
   "outputs": [],
   "source": []
  }
 ],
 "metadata": {
  "kernelspec": {
   "display_name": "base",
   "language": "python",
   "name": "python3"
  },
  "language_info": {
   "codemirror_mode": {
    "name": "ipython",
    "version": 3
   },
   "file_extension": ".py",
   "mimetype": "text/x-python",
   "name": "python",
   "nbconvert_exporter": "python",
   "pygments_lexer": "ipython3",
   "version": "3.10.9"
  }
 },
 "nbformat": 4,
 "nbformat_minor": 2
}

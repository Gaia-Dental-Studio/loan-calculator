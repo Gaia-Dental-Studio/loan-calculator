{
 "cells": [
  {
   "cell_type": "code",
   "execution_count": 27,
   "metadata": {},
   "outputs": [],
   "source": [
    "import pandas as pd \n",
    "import numpy as np \n",
    "\n",
    "import numpy_financial as npf"
   ]
  },
  {
   "cell_type": "code",
   "execution_count": 2,
   "metadata": {},
   "outputs": [
    {
     "name": "stdout",
     "output_type": "stream",
     "text": [
      "Weekly Payment: $185.69\n"
     ]
    }
   ],
   "source": [
    "import numpy_financial as npf\n",
    "\n",
    "# Input values\n",
    "loan_amount = 150000  # Present value\n",
    "annual_rate = 0.05  # Annual interest rate (5%)\n",
    "loan_term_years = 30  # Loan term in years\n",
    "\n",
    "# Convert annual rate and term to weekly\n",
    "weekly_rate = annual_rate / 52\n",
    "nper_weeks = loan_term_years * 52\n",
    "\n",
    "# Calculate weekly payment\n",
    "weekly_payment = npf.pmt(weekly_rate, nper_weeks, loan_amount)\n",
    "print(f\"Weekly Payment: ${-weekly_payment:.2f}\")\n"
   ]
  },
  {
   "cell_type": "code",
   "execution_count": 32,
   "metadata": {},
   "outputs": [
    {
     "name": "stdout",
     "output_type": "stream",
     "text": [
      "Monthly Payment: $805.23\n"
     ]
    }
   ],
   "source": [
    "import numpy_financial as npf\n",
    "\n",
    "# Input values\n",
    "loan_amount = 150000  # Present value\n",
    "annual_rate = 0.05  # Annual interest rate (5%)\n",
    "loan_term_years = 30  # Loan term in years\n",
    "\n",
    "# Convert annual rate and term to weekly\n",
    "monthly_rate = annual_rate / 12\n",
    "nper_months = loan_term_years * 12\n",
    "\n",
    "# Calculate weekly payment\n",
    "monthly_payment = npf.pmt(monthly_rate, nper_months, loan_amount)\n",
    "print(f\"Monthly Payment: ${-monthly_payment:.2f}\")"
   ]
  },
  {
   "cell_type": "code",
   "execution_count": 17,
   "metadata": {},
   "outputs": [
    {
     "data": {
      "text/plain": [
       "array(nan)"
      ]
     },
     "execution_count": 17,
     "metadata": {},
     "output_type": "execute_result"
    }
   ],
   "source": [
    "import numpy as np\n",
    "import numpy_financial as npf\n",
    "\n",
    "\n",
    "\n",
    "period_interest_rate = 0.05 / 12\n",
    "initial_payment = 500\n",
    "remaining_balance = 150000\n",
    "\n",
    "\n",
    "result = npf.nper(rate=period_interest_rate, \n",
    "                                                        pmt=-initial_payment, \n",
    "                                                        pv=remaining_balance)\n",
    "\n",
    "result"
   ]
  },
  {
   "cell_type": "code",
   "execution_count": 10,
   "metadata": {},
   "outputs": [],
   "source": [
    "import numpy as np\n",
    "import numpy_financial as npf\n",
    "\n",
    "def calculate_nper(period_interest_rate, remaining_balance, payment_frequency):\n",
    "    # Initial parameters\n",
    "    initial_payment = 10\n",
    "    increment_list = [1000, 100, 10, 1]  # Increment levels\n",
    "    \n",
    "    # Define periods per year for different frequencies\n",
    "    period_per_year = {'monthly': 12, 'weekly': 52, 'fortnightly': 26}\n",
    "    period_interest_rate = period_interest_rate / period_per_year[payment_frequency]\n",
    "    \n",
    "    # Iterate through increment levels\n",
    "    for increment in increment_list:\n",
    "        while True:\n",
    "            # Calculate the result\n",
    "            result = npf.nper(rate=period_interest_rate, pmt=-initial_payment, pv=remaining_balance)\n",
    "            \n",
    "            if not np.isnan(result):  # If result is valid, break to try smaller increment\n",
    "                break\n",
    "            else:\n",
    "                initial_payment += increment  # Increase by current increment\n",
    "        \n",
    "        # Backtrack one step and use the next smaller increment\n",
    "        initial_payment -= increment\n",
    "\n",
    "    # Final recalculation with the refined initial payment\n",
    "    result = npf.nper(rate=period_interest_rate, pmt=-initial_payment, pv=remaining_balance)\n",
    "    \n",
    "    return initial_payment\n"
   ]
  },
  {
   "cell_type": "code",
   "execution_count": 13,
   "metadata": {},
   "outputs": [
    {
     "data": {
      "text/plain": [
       "625"
      ]
     },
     "execution_count": 13,
     "metadata": {},
     "output_type": "execute_result"
    }
   ],
   "source": [
    "calculate_nper(0.05, 150000, 'monthly')"
   ]
  },
  {
   "cell_type": "code",
   "execution_count": 7,
   "metadata": {},
   "outputs": [
    {
     "data": {
      "text/plain": [
       "1854.0247200054619"
      ]
     },
     "execution_count": 7,
     "metadata": {},
     "output_type": "execute_result"
    }
   ],
   "source": [
    "npf.pmt(0.075/12, 12*15, -200000)"
   ]
  },
  {
   "cell_type": "code",
   "execution_count": null,
   "metadata": {},
   "outputs": [],
   "source": []
  }
 ],
 "metadata": {
  "kernelspec": {
   "display_name": "base",
   "language": "python",
   "name": "python3"
  },
  "language_info": {
   "codemirror_mode": {
    "name": "ipython",
    "version": 3
   },
   "file_extension": ".py",
   "mimetype": "text/x-python",
   "name": "python",
   "nbconvert_exporter": "python",
   "pygments_lexer": "ipython3",
   "version": "3.10.9"
  }
 },
 "nbformat": 4,
 "nbformat_minor": 2
}
